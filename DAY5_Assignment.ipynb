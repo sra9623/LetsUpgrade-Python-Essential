{
  "nbformat": 4,
  "nbformat_minor": 0,
  "metadata": {
    "kernelspec": {
      "display_name": "Python 3",
      "language": "python",
      "name": "python3"
    },
    "language_info": {
      "codemirror_mode": {
        "name": "ipython",
        "version": 3
      },
      "file_extension": ".py",
      "mimetype": "text/x-python",
      "name": "python",
      "nbconvert_exporter": "python",
      "pygments_lexer": "ipython3",
      "version": "3.7.3"
    },
    "colab": {
      "name": "DAY5 Assignment.ipynb",
      "provenance": [],
      "collapsed_sections": [],
      "include_colab_link": true
    }
  },
  "cells": [
    {
      "cell_type": "markdown",
      "metadata": {
        "id": "view-in-github",
        "colab_type": "text"
      },
      "source": [
        "<a href=\"https://colab.research.google.com/github/sra9623/LetsUpgrade-Python-Essential/blob/master/DAY5_Assignment.ipynb\" target=\"_parent\"><img src=\"https://colab.research.google.com/assets/colab-badge.svg\" alt=\"Open In Colab\"/></a>"
      ]
    },
    {
      "cell_type": "code",
      "metadata": {
        "id": "HBq8CI_gO9e5",
        "colab_type": "code",
        "colab": {}
      },
      "source": [
        "'''DAY 5'''\n",
        " \n",
        "'''Assignment 1: [0,1,2,10,4,1,0,56,2,0,1,3,0,56,0,4]'''\n",
        "'''Sort increasing order but all the zeroes must be at right '''"
      ],
      "execution_count": null,
      "outputs": []
    },
    {
      "cell_type": "markdown",
      "metadata": {
        "id": "hqG1y8S6PgMD",
        "colab_type": "text"
      },
      "source": [
        ""
      ]
    },
    {
      "cell_type": "code",
      "metadata": {
        "id": "3_0TGH5sO9ft",
        "colab_type": "code",
        "colab": {},
        "outputId": "fff6fd5c-f099-4df6-885d-b4794f001d16"
      },
      "source": [
        "list=[0,1,2,10,4,1,0,56,2,0Jh,1,3,0,56,0,4]\n",
        "list"
      ],
      "execution_count": null,
      "outputs": [
        {
          "output_type": "execute_result",
          "data": {
            "text/plain": [
              "[0, 1, 2, 10, 4, 1, 0, 56, 2, 0, 1, 3, 0, 56, 0, 4]"
            ]
          },
          "metadata": {
            "tags": []
          },
          "execution_count": 1
        }
      ]
    },
    {
      "cell_type": "code",
      "metadata": {
        "id": "1ErTxputO9gZ",
        "colab_type": "code",
        "colab": {},
        "outputId": "46080e46-e1e0-465e-d293-1b36d822bfd9"
      },
      "source": [
        "list.sort()\n",
        "print(list)"
      ],
      "execution_count": null,
      "outputs": [
        {
          "output_type": "stream",
          "text": [
            "[0, 0, 0, 0, 0, 1, 1, 1, 2, 2, 3, 4, 4, 10, 56, 56]\n"
          ],
          "name": "stdout"
        }
      ]
    },
    {
      "cell_type": "code",
      "metadata": {
        "id": "KDw86C6hO9hg",
        "colab_type": "code",
        "colab": {},
        "outputId": "df2ad671-3237-415c-cb29-ca6efc58c866"
      },
      "source": [
        "list=[0,1,2,10,4,1,0,56,2,0,1,3,0,56,0,4]\n",
        "p=list.count(0)\n",
        " \n",
        "while (p!=0):\n",
        "    list.remove(0)\n",
        "    p=p-1\n",
        " \n",
        "list.sort()\n",
        " \n",
        "p=5\n",
        "while (p>=0):\n",
        "    list.insert(len(list),0)\n",
        "    p=p-1\n",
        "print(list)"
      ],
      "execution_count": null,
      "outputs": [
        {
          "output_type": "stream",
          "text": [
            "[1, 1, 1, 2, 2, 3, 4, 4, 10, 56, 56, 0, 0, 0, 0, 0, 0]\n"
          ],
          "name": "stdout"
        }
      ]
    },
    {
      "cell_type": "code",
      "metadata": {
        "id": "XNLVu0x8O9iG",
        "colab_type": "code",
        "colab": {},
        "outputId": "54066e77-7de4-45a0-fdef-3a55c819a834"
      },
      "source": [
        "'''ASSIGNMENT 2'''\n",
        "'''list1=[10,20,40,60,70,80]  sorted list'''\n",
        "'''list2=[5,15,25,35,45,60] sorted list '''\n",
        "'''merge these two sorted list produce omne sorted list ,but use only one loop while or only one time '''\n",
        "\n",
        "\n"
      ],
      "execution_count": null,
      "outputs": [
        {
          "output_type": "execute_result",
          "data": {
            "text/plain": [
              "'merge these two sorted list produce omne sorted list ,but use only one loop while or only one time '"
            ]
          },
          "metadata": {
            "tags": []
          },
          "execution_count": 149
        }
      ]
    },
    {
      "cell_type": "code",
      "metadata": {
        "id": "pj-P1bQsO9ip",
        "colab_type": "code",
        "colab": {},
        "outputId": "ea9ee8d0-e2ec-4d54-9950-86847b2df37c"
      },
      "source": [
        "list1=[10,20,90,60,70,80] \n",
        "list1.sort()\n",
        "list1"
      ],
      "execution_count": null,
      "outputs": [
        {
          "output_type": "execute_result",
          "data": {
            "text/plain": [
              "[10, 20, 60, 70, 80, 90]"
            ]
          },
          "metadata": {
            "tags": []
          },
          "execution_count": 159
        }
      ]
    },
    {
      "cell_type": "code",
      "metadata": {
        "id": "9TI7fepwO9jQ",
        "colab_type": "code",
        "colab": {},
        "outputId": "ed7f2fba-2182-43dc-d3c3-590346f29cf0"
      },
      "source": [
        "list2=[5,15,95,65,35,45,60] \n",
        "list2.sort()\n",
        "list2"
      ],
      "execution_count": null,
      "outputs": [
        {
          "output_type": "execute_result",
          "data": {
            "text/plain": [
              "[5, 15, 35, 45, 60, 65, 95]"
            ]
          },
          "metadata": {
            "tags": []
          },
          "execution_count": 160
        }
      ]
    },
    {
      "cell_type": "code",
      "metadata": {
        "id": "LFGUKs23O9jx",
        "colab_type": "code",
        "colab": {},
        "outputId": "a00d4e8f-8cc1-480d-f312-e9661ef6599b"
      },
      "source": [
        "for x in list2:\n",
        "    list1.append(x)\n",
        "list1.sort()\n",
        "print(list1)"
      ],
      "execution_count": null,
      "outputs": [
        {
          "output_type": "stream",
          "text": [
            "[5, 10, 15, 20, 35, 45, 60, 60, 65, 70, 80, 90, 95]\n"
          ],
          "name": "stdout"
        }
      ]
    },
    {
      "cell_type": "code",
      "metadata": {
        "id": "gW4ffhlMO9kP",
        "colab_type": "code",
        "colab": {}
      },
      "source": [
        ""
      ],
      "execution_count": null,
      "outputs": []
    }
  ]
}