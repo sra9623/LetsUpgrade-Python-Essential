{
 "cells": [
  {
   "cell_type": "code",
   "execution_count": 2,
   "metadata": {},
   "outputs": [
    {
     "name": "stdout",
     "output_type": "stream",
     "text": [
      "Enter the number 5\n",
      "The sum of first  entered number is  15\n"
     ]
    }
   ],
   "source": [
    "'''Assignment  no. 1'''\n",
    "\n",
    "n=int(input(\"Enter the number \"))\n",
    "sum1=0\n",
    "while(n>0):\n",
    "    sum1=sum1+n\n",
    "    n=n-1\n",
    "print(\"The sum of first  entered number is \",sum1)"
   ]
  },
  {
   "cell_type": "code",
   "execution_count": 11,
   "metadata": {},
   "outputs": [
    {
     "name": "stdout",
     "output_type": "stream",
     "text": [
      "Enter the number 7\n",
      "7 is a PRIME NUMBER \n"
     ]
    }
   ],
   "source": [
    "'''Assignment No. 2'''\n",
    "\n",
    "num = int(input(\"Enter the number \"))\n",
    "if num>1:\n",
    "    for i in range(2,num):\n",
    "        if(num%i==0):\n",
    "            print (num,\"is a PRIME NUMBER \")\n",
    "            print(i,\"times\",num//i,\"is\",num)\n",
    "            break\n",
    "    else:print(num,\"is a PRIME NUMBER \")\n",
    "            \n",
    "else :\n",
    "        print(num,\"is not a PRIME NUMBER\")"
   ]
  },
  {
   "cell_type": "code",
   "execution_count": null,
   "metadata": {},
   "outputs": [],
   "source": []
  }
 ],
 "metadata": {
  "kernelspec": {
   "display_name": "Python 3",
   "language": "python",
   "name": "python3"
  },
  "language_info": {
   "codemirror_mode": {
    "name": "ipython",
    "version": 3
   },
   "file_extension": ".py",
   "mimetype": "text/x-python",
   "name": "python",
   "nbconvert_exporter": "python",
   "pygments_lexer": "ipython3",
   "version": "3.7.3"
  }
 },
 "nbformat": 4,
 "nbformat_minor": 2
}
