{
  "nbformat": 4,
  "nbformat_minor": 0,
  "metadata": {
    "colab": {
      "name": "Batch 6 Day 6 .ipynb",
      "provenance": [],
      "collapsed_sections": [],
      "authorship_tag": "ABX9TyNM8aJE+BPe+KkqYVmS6WAw",
      "include_colab_link": true
    },
    "kernelspec": {
      "name": "python3",
      "display_name": "Python 3"
    }
  },
  "cells": [
    {
      "cell_type": "markdown",
      "metadata": {
        "id": "view-in-github",
        "colab_type": "text"
      },
      "source": [
        "<a href=\"https://colab.research.google.com/github/sra9623/LetsUpgrade-Python-Essential/blob/master/Day_6%20Assignment%20_.ipynb\" target=\"_parent\"><img src=\"https://colab.research.google.com/assets/colab-badge.svg\" alt=\"Open In Colab\"/></a>"
      ]
    },
    {
      "cell_type": "markdown",
      "metadata": {
        "id": "lOJrTH8Qn1p8",
        "colab_type": "text"
      },
      "source": [
        ""
      ]
    },
    {
      "cell_type": "code",
      "metadata": {
        "id": "Aw9XsEaxnyVh",
        "colab_type": "code",
        "colab": {}
      },
      "source": [
        "''' Assignment 6   '''\n",
        "'''DAY 6'''\n",
        "'''list1=[1,2,3,4,5,7,8]\n",
        "list2=[\"a\",\"b\",\"c\",\"d\",\"e\"]\n",
        "\n",
        "Convert to a dictionary in one line code using list comprehension without using zip method'''"
      ],
      "execution_count": null,
      "outputs": []
    },
    {
      "cell_type": "code",
      "metadata": {
        "id": "PlITL2EGYYrH",
        "colab_type": "code",
        "colab": {
          "base_uri": "https://localhost:8080/",
          "height": 35
        },
        "outputId": "e08dccac-845f-48fc-8849-9627594a86f9"
      },
      "source": [
        "list1=[1,2,3,4,5,7,8]\n",
        "list2=[\"a\",\"b\",\"c\",\"d\",\"e\"]\n",
        " \n",
        " \n",
        "print(str({list1[i]:list2[i]   for i in range(len(list2))}))"
      ],
      "execution_count": null,
      "outputs": [
        {
          "output_type": "stream",
          "text": [
            "{1: 'a', 2: 'b', 3: 'c', 4: 'd', 5: 'e'}\n"
          ],
          "name": "stdout"
        }
      ]
    }
  ]
}