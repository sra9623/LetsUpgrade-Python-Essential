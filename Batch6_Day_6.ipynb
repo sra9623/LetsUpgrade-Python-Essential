{
  "nbformat": 4,
  "nbformat_minor": 0,
  "metadata": {
    "colab": {
      "name": "Batch6_Day 7.ipynb",
      "provenance": [],
      "collapsed_sections": [],
      "authorship_tag": "ABX9TyPQH5wEV3gJDPPv4pIN5AXs",
      "include_colab_link": true
    },
    "kernelspec": {
      "name": "python3",
      "display_name": "Python 3"
    }
  },
  "cells": [
    {
      "cell_type": "markdown",
      "metadata": {
        "id": "view-in-github",
        "colab_type": "text"
      },
      "source": [
        "<a href=\"https://colab.research.google.com/github/sra9623/LetsUpgrade-Python-Essential/blob/master/Batch6_Day_6.ipynb\" target=\"_parent\"><img src=\"https://colab.research.google.com/assets/colab-badge.svg\" alt=\"Open In Colab\"/></a>"
      ]
    },
    {
      "cell_type": "code",
      "metadata": {
        "id": "z_RzSFiUu6ku",
        "colab_type": "code",
        "colab": {
          "base_uri": "https://localhost:8080/",
          "height": 69
        },
        "outputId": "ed5598c5-0c3e-4b37-d2a8-e9c1fa60ec95"
      },
      "source": [
        " \n",
        " \n",
        "'''Day 7 ASSIGNMENT '''\n",
        "'''use the dictionary \n",
        "Port1={21:\"FTP\",22:\"SSH\",23:\"TELNET\",80:\"http\"}\n",
        "and make another dictionary in which key become values \n",
        "and value become key'''\n",
        "\n",
        "print(\"original dictionary \")\n",
        "dict1={21:\"FTP\",22:\"SSH\",23:\"TELNET\",80:\"http\"}\n",
        "print(dict1)\n",
        " \n",
        "print()\n",
        " \n",
        "dict2={value:key  for key, value in dict1.items()}\n",
        "print(\"Dictionary after  swapping \")\n",
        "print(dict2)"
      ],
      "execution_count": 6,
      "outputs": [
        {
          "output_type": "stream",
          "text": [
            "{21: 'FTP', 22: 'SSH', 23: 'TELNET', 80: 'http'}\n",
            "\n",
            "{'FTP': 21, 'SSH': 22, 'TELNET': 23, 'http': 80}\n"
          ],
          "name": "stdout"
        }
      ]
    },
    {
      "cell_type": "code",
      "metadata": {
        "id": "cCwS31JbxFAA",
        "colab_type": "code",
        "colab": {
          "base_uri": "https://localhost:8080/",
          "height": 104
        },
        "outputId": "b7ab8427-52f0-49cf-8593-6d7070bb8241"
      },
      "source": [
        "'''DAY 7-ASSIGNMENT '''\n",
        "'''list of type tuples =[(1,2),(3,4),(5,6),(4,5)]\n",
        "Make new  list containing sum of no. of tuples \n",
        "Like list2=[(3),(7),(11),(9)]\n",
        "'''\n",
        "print(\"original list of tuples \")\n",
        "list1=[(1,2),(3,4),(5,6),(4,5)]\n",
        "print(list1)\n",
        "print()\n",
        " \n",
        "print(\"sum of tuples \")\n",
        "list2=[a+b  for a, b in list1]\n",
        "print(list2)"
      ],
      "execution_count": 11,
      "outputs": [
        {
          "output_type": "stream",
          "text": [
            "original list of tuples \n",
            "[(1, 2), (3, 4), (5, 6), (4, 5)]\n",
            "\n",
            "sum of tuples \n",
            "[3, 7, 11, 9]\n"
          ],
          "name": "stdout"
        }
      ]
    },
    {
      "cell_type": "code",
      "metadata": {
        "id": "_EnBIDj5zDRf",
        "colab_type": "code",
        "colab": {}
      },
      "source": [
        ""
      ],
      "execution_count": null,
      "outputs": []
    }
  ]
}
