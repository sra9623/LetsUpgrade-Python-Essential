{
 "cells": [
  {
   "cell_type": "code",
   "execution_count": null,
   "metadata": {},
   "outputs": [],
   "source": [
    "'''DAY 5'''\n",
    "\n",
    "'''Assignment 1: [0,1,2,10,4,1,0,56,2,0,1,3,0,56,0,4]'''\n",
    "'''Sort increasing order but all the zeroes must be at right '''\n"
   ]
  },
  {
   "cell_type": "code",
   "execution_count": 1,
   "metadata": {},
   "outputs": [
    {
     "data": {
      "text/plain": [
       "[0, 1, 2, 10, 4, 1, 0, 56, 2, 0, 1, 3, 0, 56, 0, 4]"
      ]
     },
     "execution_count": 1,
     "metadata": {},
     "output_type": "execute_result"
    }
   ],
   "source": [
    "list=[0,1,2,10,4,1,0,56,2,0,1,3,0,56,0,4]\n",
    "list"
   ]
  },
  {
   "cell_type": "code",
   "execution_count": 3,
   "metadata": {},
   "outputs": [
    {
     "name": "stdout",
     "output_type": "stream",
     "text": [
      "[0, 0, 0, 0, 0, 1, 1, 1, 2, 2, 3, 4, 4, 10, 56, 56]\n"
     ]
    }
   ],
   "source": [
    "list.sort()\n",
    "print(list)"
   ]
  },
  {
   "cell_type": "code",
   "execution_count": 121,
   "metadata": {},
   "outputs": [
    {
     "name": "stdout",
     "output_type": "stream",
     "text": [
      "5\n",
      "[1, 2, 10, 4, 1, 56, 2, 1, 3, 56, 4]\n",
      "[1, 1, 1, 2, 2, 3, 4, 4, 10, 56, 56]\n",
      "[1, 1, 1, 2, 2, 3, 4, 4, 10, 56, 56, 0, 0, 0, 0, 0, 0]\n"
     ]
    }
   ],
   "source": [
    "list=[0,1,2,10,4,1,0,56,2,0,1,3,0,56,0,4]\n",
    "p=list.count(0)\n",
    "print(p)\n",
    "while (p!=0):\n",
    "    list.remove(0)\n",
    "    p=p-1\n",
    "print(list)\n",
    "list.sort()\n",
    "print(list)\n",
    "p=5\n",
    "while (p>=0):\n",
    "    list.insert(len(list),0)\n",
    "    p=p-1\n",
    "print(list)"
   ]
  },
  {
   "cell_type": "code",
   "execution_count": 122,
   "metadata": {},
   "outputs": [
    {
     "name": "stdout",
     "output_type": "stream",
     "text": [
      "[1, 1, 1, 2, 2, 3, 4, 4, 10, 56, 56, 0, 0, 0, 0, 0, 0]\n"
     ]
    }
   ],
   "source": [
    "list=[0,1,2,10,4,1,0,56,2,0,1,3,0,56,0,4]\n",
    "p=list.count(0)\n",
    "\n",
    "while (p!=0):\n",
    "    list.remove(0)\n",
    "    p=p-1\n",
    "\n",
    "list.sort()\n",
    "\n",
    "p=5\n",
    "while (p>=0):\n",
    "    list.insert(len(list),0)\n",
    "    p=p-1\n",
    "print(list)"
   ]
  },
  {
   "cell_type": "code",
   "execution_count": 149,
   "metadata": {},
   "outputs": [
    {
     "data": {
      "text/plain": [
       "'merge these two sorted list produce omne sorted list ,but use only one loop while or only one time '"
      ]
     },
     "execution_count": 149,
     "metadata": {},
     "output_type": "execute_result"
    }
   ],
   "source": [
    "'''ASSIGNMENT 2'''\n",
    "'''list1=[10,20,40,60,70,80]  sorted list'''\n",
    "'''list2=[5,15,25,35,45,60] sorted list '''\n",
    "'''merge these two sorted list produce omne sorted list ,but use only one loop while or only one time '''\n",
    "\n",
    "\n"
   ]
  },
  {
   "cell_type": "code",
   "execution_count": 159,
   "metadata": {},
   "outputs": [
    {
     "data": {
      "text/plain": [
       "[10, 20, 60, 70, 80, 90]"
      ]
     },
     "execution_count": 159,
     "metadata": {},
     "output_type": "execute_result"
    }
   ],
   "source": [
    "list1=[10,20,90,60,70,80] \n",
    "list1.sort()\n",
    "list1"
   ]
  },
  {
   "cell_type": "code",
   "execution_count": 160,
   "metadata": {},
   "outputs": [
    {
     "data": {
      "text/plain": [
       "[5, 15, 35, 45, 60, 65, 95]"
      ]
     },
     "execution_count": 160,
     "metadata": {},
     "output_type": "execute_result"
    }
   ],
   "source": [
    "list2=[5,15,95,65,35,45,60] \n",
    "list2.sort()\n",
    "list2"
   ]
  },
  {
   "cell_type": "code",
   "execution_count": 161,
   "metadata": {},
   "outputs": [
    {
     "name": "stdout",
     "output_type": "stream",
     "text": [
      "[5, 10, 15, 20, 35, 45, 60, 60, 65, 70, 80, 90, 95]\n"
     ]
    }
   ],
   "source": [
    "for x in list2:\n",
    "    list1.append(x)\n",
    "list1.sort()\n",
    "print(list1)"
   ]
  },
  {
   "cell_type": "code",
   "execution_count": null,
   "metadata": {},
   "outputs": [],
   "source": []
  }
 ],
 "metadata": {
  "kernelspec": {
   "display_name": "Python 3",
   "language": "python",
   "name": "python3"
  },
  "language_info": {
   "codemirror_mode": {
    "name": "ipython",
    "version": 3
   },
   "file_extension": ".py",
   "mimetype": "text/x-python",
   "name": "python",
   "nbconvert_exporter": "python",
   "pygments_lexer": "ipython3",
   "version": "3.7.3"
  }
 },
 "nbformat": 4,
 "nbformat_minor": 2
}
